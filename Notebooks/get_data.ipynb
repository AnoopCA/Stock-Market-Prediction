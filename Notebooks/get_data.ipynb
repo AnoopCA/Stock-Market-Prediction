{
 "cells": [
  {
   "cell_type": "code",
   "execution_count": 2,
   "metadata": {
    "id": "oQl2G2j5yVLv"
   },
   "outputs": [],
   "source": [
    "import numpy as np\n",
    "import pandas as pd"
   ]
  },
  {
   "cell_type": "code",
   "execution_count": 3,
   "metadata": {},
   "outputs": [
    {
     "data": {
      "text/html": [
       "<div>\n",
       "<style scoped>\n",
       "    .dataframe tbody tr th:only-of-type {\n",
       "        vertical-align: middle;\n",
       "    }\n",
       "\n",
       "    .dataframe tbody tr th {\n",
       "        vertical-align: top;\n",
       "    }\n",
       "\n",
       "    .dataframe thead th {\n",
       "        text-align: right;\n",
       "    }\n",
       "</style>\n",
       "<table border=\"1\" class=\"dataframe\">\n",
       "  <thead>\n",
       "    <tr style=\"text-align: right;\">\n",
       "      <th></th>\n",
       "      <th>date</th>\n",
       "      <th>open</th>\n",
       "      <th>high</th>\n",
       "      <th>low</th>\n",
       "      <th>close</th>\n",
       "      <th>volume</th>\n",
       "    </tr>\n",
       "  </thead>\n",
       "  <tbody>\n",
       "    <tr>\n",
       "      <th>0</th>\n",
       "      <td>2015-01-09 09:15:00</td>\n",
       "      <td>8285.45</td>\n",
       "      <td>8295.90</td>\n",
       "      <td>8285.45</td>\n",
       "      <td>8292.10</td>\n",
       "      <td>0</td>\n",
       "    </tr>\n",
       "    <tr>\n",
       "      <th>1</th>\n",
       "      <td>2015-01-09 09:16:00</td>\n",
       "      <td>8292.60</td>\n",
       "      <td>8293.60</td>\n",
       "      <td>8287.20</td>\n",
       "      <td>8288.15</td>\n",
       "      <td>0</td>\n",
       "    </tr>\n",
       "    <tr>\n",
       "      <th>2</th>\n",
       "      <td>2015-01-09 09:17:00</td>\n",
       "      <td>8287.40</td>\n",
       "      <td>8293.90</td>\n",
       "      <td>8287.40</td>\n",
       "      <td>8293.90</td>\n",
       "      <td>0</td>\n",
       "    </tr>\n",
       "    <tr>\n",
       "      <th>3</th>\n",
       "      <td>2015-01-09 09:18:00</td>\n",
       "      <td>8294.25</td>\n",
       "      <td>8300.65</td>\n",
       "      <td>8293.90</td>\n",
       "      <td>8300.65</td>\n",
       "      <td>0</td>\n",
       "    </tr>\n",
       "    <tr>\n",
       "      <th>4</th>\n",
       "      <td>2015-01-09 09:19:00</td>\n",
       "      <td>8300.60</td>\n",
       "      <td>8301.30</td>\n",
       "      <td>8298.75</td>\n",
       "      <td>8301.20</td>\n",
       "      <td>0</td>\n",
       "    </tr>\n",
       "  </tbody>\n",
       "</table>\n",
       "</div>"
      ],
      "text/plain": [
       "                  date     open     high      low    close  volume\n",
       "0  2015-01-09 09:15:00  8285.45  8295.90  8285.45  8292.10       0\n",
       "1  2015-01-09 09:16:00  8292.60  8293.60  8287.20  8288.15       0\n",
       "2  2015-01-09 09:17:00  8287.40  8293.90  8287.40  8293.90       0\n",
       "3  2015-01-09 09:18:00  8294.25  8300.65  8293.90  8300.65       0\n",
       "4  2015-01-09 09:19:00  8300.60  8301.30  8298.75  8301.20       0"
      ]
     },
     "execution_count": 3,
     "metadata": {},
     "output_type": "execute_result"
    }
   ],
   "source": [
    "stock_data = pd.read_csv(r'D:\\ML_Projects\\Stock-Market-Prediction\\NIFTY 50_minute_data.csv')\n",
    "stock_data.head()"
   ]
  },
  {
   "cell_type": "code",
   "execution_count": 4,
   "metadata": {},
   "outputs": [
    {
     "data": {
      "text/plain": [
       "count    932946.000000\n",
       "mean      13623.775737\n",
       "std        5047.819576\n",
       "min        6846.800000\n",
       "25%        9428.450000\n",
       "50%       11561.450000\n",
       "75%       17607.137500\n",
       "max       26273.400000\n",
       "Name: open, dtype: float64"
      ]
     },
     "execution_count": 4,
     "metadata": {},
     "output_type": "execute_result"
    }
   ],
   "source": [
    "stock_data['open'].describe()"
   ]
  },
  {
   "cell_type": "code",
   "execution_count": 5,
   "metadata": {},
   "outputs": [],
   "source": [
    "stock_data['open'] = stock_data['open'].apply(lambda x: round(x))"
   ]
  },
  {
   "cell_type": "code",
   "execution_count": 6,
   "metadata": {},
   "outputs": [
    {
     "data": {
      "text/plain": [
       "18807"
      ]
     },
     "execution_count": 6,
     "metadata": {},
     "output_type": "execute_result"
    }
   ],
   "source": [
    "stock_data['open'].nunique()"
   ]
  },
  {
   "cell_type": "code",
   "execution_count": 7,
   "metadata": {},
   "outputs": [
    {
     "data": {
      "text/plain": [
       "array([ 8285,  8293,  8287, ..., 22846, 22870, 22803], dtype=int64)"
      ]
     },
     "execution_count": 7,
     "metadata": {},
     "output_type": "execute_result"
    }
   ],
   "source": [
    "stock_data['open'].unique()"
   ]
  },
  {
   "cell_type": "code",
   "execution_count": 8,
   "metadata": {},
   "outputs": [
    {
     "data": {
      "text/plain": [
       "0         2015-01-09\n",
       "1         2015-01-09\n",
       "2         2015-01-09\n",
       "3         2015-01-09\n",
       "4         2015-01-09\n",
       "             ...    \n",
       "932941    2025-02-07\n",
       "932942    2025-02-07\n",
       "932943    2025-02-07\n",
       "932944    2025-02-07\n",
       "932945    2025-02-07\n",
       "Name: date_only, Length: 932946, dtype: object"
      ]
     },
     "execution_count": 8,
     "metadata": {},
     "output_type": "execute_result"
    }
   ],
   "source": [
    "stock_data['date'] = pd.to_datetime(stock_data['date'])\n",
    "stock_data['date_only'] = stock_data['date'].dt.date\n",
    "stock_data['date_only']"
   ]
  },
  {
   "cell_type": "code",
   "execution_count": 9,
   "metadata": {},
   "outputs": [
    {
     "data": {
      "text/plain": [
       "array([375, 364, 355, 376, 370, 377, 371, 367, 374, 373,  72, 357,  60,\n",
       "       336, 372, 361,  54, 368, 105, 369], dtype=int64)"
      ]
     },
     "execution_count": 9,
     "metadata": {},
     "output_type": "execute_result"
    }
   ],
   "source": [
    "stock_data.groupby('date_only')['open'].count().unique()"
   ]
  },
  {
   "cell_type": "code",
   "execution_count": 25,
   "metadata": {},
   "outputs": [],
   "source": [
    "data = stock_data.groupby('date_only')['open'].apply(list).reset_index()\n",
    "data = data.drop(['date_only'], axis=1)"
   ]
  },
  {
   "cell_type": "code",
   "execution_count": 26,
   "metadata": {},
   "outputs": [
    {
     "data": {
      "text/html": [
       "<div>\n",
       "<style scoped>\n",
       "    .dataframe tbody tr th:only-of-type {\n",
       "        vertical-align: middle;\n",
       "    }\n",
       "\n",
       "    .dataframe tbody tr th {\n",
       "        vertical-align: top;\n",
       "    }\n",
       "\n",
       "    .dataframe thead th {\n",
       "        text-align: right;\n",
       "    }\n",
       "</style>\n",
       "<table border=\"1\" class=\"dataframe\">\n",
       "  <thead>\n",
       "    <tr style=\"text-align: right;\">\n",
       "      <th></th>\n",
       "      <th>open</th>\n",
       "    </tr>\n",
       "  </thead>\n",
       "  <tbody>\n",
       "    <tr>\n",
       "      <th>0</th>\n",
       "      <td>[8285, 8293, 8287, 8294, 8301, 8300, 8301, 830...</td>\n",
       "    </tr>\n",
       "    <tr>\n",
       "      <th>1</th>\n",
       "      <td>[8291, 8254, 8255, 8258, 8263, 8267, 8266, 826...</td>\n",
       "    </tr>\n",
       "    <tr>\n",
       "      <th>2</th>\n",
       "      <td>[8346, 8355, 8349, 8344, 8342, 8340, 8340, 834...</td>\n",
       "    </tr>\n",
       "    <tr>\n",
       "      <th>3</th>\n",
       "      <td>[8307, 8301, 8307, 8309, 8305, 8305, 8302, 829...</td>\n",
       "    </tr>\n",
       "    <tr>\n",
       "      <th>4</th>\n",
       "      <td>[8425, 8440, 8394, 8386, 8401, 8428, 8408, 839...</td>\n",
       "    </tr>\n",
       "    <tr>\n",
       "      <th>...</th>\n",
       "      <td>...</td>\n",
       "    </tr>\n",
       "    <tr>\n",
       "      <th>2494</th>\n",
       "      <td>[23319, 23272, 23255, 23252, 23260, 23262, 232...</td>\n",
       "    </tr>\n",
       "    <tr>\n",
       "      <th>2495</th>\n",
       "      <td>[23510, 23494, 23497, 23506, 23507, 23502, 235...</td>\n",
       "    </tr>\n",
       "    <tr>\n",
       "      <th>2496</th>\n",
       "      <td>[23802, 23768, 23768, 23766, 23773, 23766, 237...</td>\n",
       "    </tr>\n",
       "    <tr>\n",
       "      <th>2497</th>\n",
       "      <td>[23762, 23721, 23728, 23727, 23732, 23724, 237...</td>\n",
       "    </tr>\n",
       "    <tr>\n",
       "      <th>2498</th>\n",
       "      <td>[23650, 23608, 23604, 23589, 23594, 23584, 235...</td>\n",
       "    </tr>\n",
       "  </tbody>\n",
       "</table>\n",
       "<p>2499 rows × 1 columns</p>\n",
       "</div>"
      ],
      "text/plain": [
       "                                                   open\n",
       "0     [8285, 8293, 8287, 8294, 8301, 8300, 8301, 830...\n",
       "1     [8291, 8254, 8255, 8258, 8263, 8267, 8266, 826...\n",
       "2     [8346, 8355, 8349, 8344, 8342, 8340, 8340, 834...\n",
       "3     [8307, 8301, 8307, 8309, 8305, 8305, 8302, 829...\n",
       "4     [8425, 8440, 8394, 8386, 8401, 8428, 8408, 839...\n",
       "...                                                 ...\n",
       "2494  [23319, 23272, 23255, 23252, 23260, 23262, 232...\n",
       "2495  [23510, 23494, 23497, 23506, 23507, 23502, 235...\n",
       "2496  [23802, 23768, 23768, 23766, 23773, 23766, 237...\n",
       "2497  [23762, 23721, 23728, 23727, 23732, 23724, 237...\n",
       "2498  [23650, 23608, 23604, 23589, 23594, 23584, 235...\n",
       "\n",
       "[2499 rows x 1 columns]"
      ]
     },
     "execution_count": 26,
     "metadata": {},
     "output_type": "execute_result"
    }
   ],
   "source": [
    "data"
   ]
  },
  {
   "cell_type": "code",
   "execution_count": null,
   "metadata": {},
   "outputs": [],
   "source": []
  }
 ],
 "metadata": {
  "accelerator": "GPU",
  "colab": {
   "authorship_tag": "ABX9TyMg98Ro/wTTZGjUBjrKY3ra",
   "collapsed_sections": [],
   "name": "SuperMario_2.ipynb",
   "provenance": []
  },
  "kernelspec": {
   "display_name": "stock_pred",
   "language": "python",
   "name": "python3"
  },
  "language_info": {
   "codemirror_mode": {
    "name": "ipython",
    "version": 3
   },
   "file_extension": ".py",
   "mimetype": "text/x-python",
   "name": "python",
   "nbconvert_exporter": "python",
   "pygments_lexer": "ipython3",
   "version": "3.11.5"
  }
 },
 "nbformat": 4,
 "nbformat_minor": 0
}
